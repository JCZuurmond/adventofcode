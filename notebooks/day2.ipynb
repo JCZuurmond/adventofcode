{
 "cells": [
  {
   "cell_type": "code",
   "execution_count": 1,
   "metadata": {},
   "outputs": [
    {
     "data": {
      "text/plain": [
       "250"
      ]
     },
     "execution_count": 1,
     "metadata": {},
     "output_type": "execute_result"
    }
   ],
   "source": [
    "file_name = '../data/day2.txt'\n",
    "# file_name = '../data/day2_test2.txt'\n",
    "\n",
    "with open(file_name, 'r') as f:\n",
    "    data = [l.rstrip() for l in f.readlines()]\n",
    "    \n",
    "len(data)"
   ]
  },
  {
   "cell_type": "code",
   "execution_count": 2,
   "metadata": {},
   "outputs": [
    {
     "data": {
      "text/plain": [
       "6150"
      ]
     },
     "execution_count": 2,
     "metadata": {},
     "output_type": "execute_result"
    }
   ],
   "source": [
    "from collections import Counter\n",
    "\n",
    "twice, thrice = 0, 0\n",
    "for d in data:\n",
    "    c = Counter(d)\n",
    "    twice += int(any([True for k, v in c.items() if v == 2]))\n",
    "    thrice += int(any([True for k, v in c.items() if v == 3]))\n",
    "\n",
    "twice * thrice"
   ]
  },
  {
   "cell_type": "code",
   "execution_count": 4,
   "metadata": {},
   "outputs": [],
   "source": [
    "import string\n",
    "\n",
    "import numpy as np\n",
    "from sklearn.preprocessing import OneHotEncoder\n",
    "\n",
    "alphabet = string.ascii_lowercase\n",
    "alphabet\n",
    "\n",
    "enc = OneHotEncoder()\n",
    "\n",
    "arr = np.array(list(alphabet)).reshape(-1, 1)\n",
    "enc.fit(arr)\n",
    "\n",
    "arr = np.array([list(d) for d in data]).reshape(-1, 1)\n",
    "m = np.asarray(enc.transform(arr).todense()).reshape(len(data), len(data[0]), -1)"
   ]
  },
  {
   "cell_type": "code",
   "execution_count": 11,
   "metadata": {},
   "outputs": [
    {
     "name": "stdout",
     "output_type": "stream",
     "text": [
      "rtehotyxzbodglnpkudawhijsc\n",
      "rtefotyxzbodglnpkudawhijsc\n"
     ]
    }
   ],
   "source": [
    "stop = False\n",
    "for i, self in enumerate(m):\n",
    "    for j, other in enumerate(m[i + 1:]):\n",
    "        diff = sum(sum(abs(self - other)))\n",
    "        if diff == 2:\n",
    "            stop = True\n",
    "            break\n",
    "    if stop:\n",
    "        break\n",
    "        \n",
    "print(data[i])\n",
    "print(data[j + i + 1])"
   ]
  }
 ],
 "metadata": {
  "kernelspec": {
   "display_name": "Python 3",
   "language": "python",
   "name": "python3"
  },
  "language_info": {
   "codemirror_mode": {
    "name": "ipython",
    "version": 3
   },
   "file_extension": ".py",
   "mimetype": "text/x-python",
   "name": "python",
   "nbconvert_exporter": "python",
   "pygments_lexer": "ipython3",
   "version": "3.6.5"
  }
 },
 "nbformat": 4,
 "nbformat_minor": 2
}
