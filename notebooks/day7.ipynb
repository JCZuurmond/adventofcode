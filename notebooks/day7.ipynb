{
 "cells": [
  {
   "cell_type": "code",
   "execution_count": 1,
   "metadata": {},
   "outputs": [
    {
     "name": "stdout",
     "output_type": "stream",
     "text": [
      "letters: {'S', 'Z', 'V', 'B', 'F', 'K', 'W', 'J', 'Y', 'M', 'O', 'L', 'Q', 'T', 'A', 'G', 'C', 'N', 'R', 'U', 'E', 'P', 'H', 'D', 'X', 'I'}\n"
     ]
    },
    {
     "data": {
      "text/plain": [
       "True"
      ]
     },
     "execution_count": 1,
     "metadata": {},
     "output_type": "execute_result"
    }
   ],
   "source": [
    "from collections import defaultdict\n",
    "\n",
    "# Load the data\n",
    "file_name = '../data/day7.txt'\n",
    "\n",
    "BEFORE = slice(5, 6)\n",
    "AFTER = slice(36, 37)\n",
    "\n",
    "with open(file_name, 'r') as f:\n",
    "    data = [(l[BEFORE], l[AFTER]) for l in f.readlines()]\n",
    "    \n",
    "# Find all letters\n",
    "before, after = zip(*data)\n",
    "letters = set(before) | set(after)\n",
    "\n",
    "print(f'letters: {letters}')\n",
    "\n",
    "# \n",
    "d = defaultdict(set)\n",
    "for before, after in data:\n",
    "    d[after].add(before)\n",
    "for k in letters - d.keys():\n",
    "    d[k] = set()\n",
    "    \n",
    "\n",
    "# # Find order in which to solve the puzzle\n",
    "answer = ''\n",
    "while len(d):\n",
    "    k = sorted(zip(d.values(), d.keys()), key=lambda el: (len(el[0]), el[1]))[0][1]\n",
    "    d.pop(k)\n",
    "    answer += k\n",
    "    for other_k in d.keys():\n",
    "        d[other_k] -= set(k)\n",
    "\n",
    "# answer == 'CABDFE'\n",
    "# # solution!!\n",
    "answer == 'EFHLMTKQBWAPGIVXSZJRDUYONC'"
   ]
  }
 ],
 "metadata": {
  "kernelspec": {
   "display_name": "Python 3",
   "language": "python",
   "name": "python3"
  },
  "language_info": {
   "codemirror_mode": {
    "name": "ipython",
    "version": 3
   },
   "file_extension": ".py",
   "mimetype": "text/x-python",
   "name": "python",
   "nbconvert_exporter": "python",
   "pygments_lexer": "ipython3",
   "version": "3.6.5"
  }
 },
 "nbformat": 4,
 "nbformat_minor": 2
}
