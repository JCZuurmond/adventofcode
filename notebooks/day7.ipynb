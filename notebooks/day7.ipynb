{
 "cells": [
  {
   "cell_type": "code",
   "execution_count": 3,
   "metadata": {
    "scrolled": true
   },
   "outputs": [
    {
     "data": {
      "text/plain": [
       "[('M', 'D'),\n",
       " ('E', 'Z'),\n",
       " ('F', 'W'),\n",
       " ('T', 'K'),\n",
       " ('L', 'Z'),\n",
       " ('K', 'Q'),\n",
       " ('H', 'V'),\n",
       " ('Q', 'P'),\n",
       " ('B', 'S'),\n",
       " ('W', 'P'),\n",
       " ('P', 'R'),\n",
       " ('A', 'D'),\n",
       " ('G', 'Z'),\n",
       " ('I', 'D'),\n",
       " ('V', 'D'),\n",
       " ('Z', 'R'),\n",
       " ('X', 'R'),\n",
       " ('S', 'U'),\n",
       " ('J', 'D'),\n",
       " ('R', 'U'),\n",
       " ('U', 'Y'),\n",
       " ('D', 'C'),\n",
       " ('Y', 'N'),\n",
       " ('O', 'C'),\n",
       " ('N', 'C'),\n",
       " ('Q', 'O'),\n",
       " ('K', 'Z'),\n",
       " ('X', 'N'),\n",
       " ('F', 'I'),\n",
       " ('F', 'O'),\n",
       " ('V', 'X'),\n",
       " ('E', 'N'),\n",
       " ('V', 'C'),\n",
       " ('B', 'P'),\n",
       " ('J', 'U'),\n",
       " ('D', 'Y'),\n",
       " ('Z', 'J'),\n",
       " ('I', 'U'),\n",
       " ('E', 'O'),\n",
       " ('X', 'U'),\n",
       " ('G', 'S'),\n",
       " ('K', 'X'),\n",
       " ('G', 'N'),\n",
       " ('X', 'O'),\n",
       " ('P', 'G'),\n",
       " ('L', 'G'),\n",
       " ('B', 'Y'),\n",
       " ('W', 'G'),\n",
       " ('B', 'A'),\n",
       " ('T', 'S'),\n",
       " ('J', 'C'),\n",
       " ('A', 'U'),\n",
       " ('R', 'D'),\n",
       " ('U', 'O'),\n",
       " ('D', 'N'),\n",
       " ('O', 'N'),\n",
       " ('Q', 'A'),\n",
       " ('V', 'J'),\n",
       " ('W', 'O'),\n",
       " ('F', 'R'),\n",
       " ('A', 'X'),\n",
       " ('H', 'O'),\n",
       " ('P', 'X'),\n",
       " ('E', 'Y'),\n",
       " ('M', 'U'),\n",
       " ('T', 'C'),\n",
       " ('A', 'S'),\n",
       " ('P', 'S'),\n",
       " ('Q', 'B'),\n",
       " ('V', 'S'),\n",
       " ('S', 'Y'),\n",
       " ('X', 'Y'),\n",
       " ('H', 'S'),\n",
       " ('J', 'R'),\n",
       " ('V', 'U'),\n",
       " ('X', 'C'),\n",
       " ('I', 'X'),\n",
       " ('Y', 'O'),\n",
       " ('V', 'O'),\n",
       " ('F', 'L'),\n",
       " ('T', 'Q'),\n",
       " ('R', 'O'),\n",
       " ('E', 'W'),\n",
       " ('Q', 'Y'),\n",
       " ('E', 'H'),\n",
       " ('I', 'R'),\n",
       " ('B', 'D'),\n",
       " ('F', 'A'),\n",
       " ('J', 'Y'),\n",
       " ('R', 'N'),\n",
       " ('W', 'A'),\n",
       " ('D', 'O'),\n",
       " ('P', 'N'),\n",
       " ('E', 'Q'),\n",
       " ('G', 'V'),\n",
       " ('G', 'I'),\n",
       " ('X', 'S'),\n",
       " ('M', 'C'),\n",
       " ('G', 'X'),\n",
       " ('T', 'P'),\n",
       " ('Q', 'Z')]"
      ]
     },
     "execution_count": 3,
     "metadata": {},
     "output_type": "execute_result"
    }
   ],
   "source": [
    "from collections import defaultdict\n",
    "\n",
    "# Load the data\n",
    "file_name = '../data/day7.txt'\n",
    "\n",
    "BEFORE = slice(5, 6)\n",
    "AFTER = slice(36, 37)\n",
    "\n",
    "with open(file_name, 'r') as f:\n",
    "    data = [(l[BEFORE], l[AFTER]) for l in f.readlines()]\n",
    "    \n",
    "    \n",
    "data"
   ]
  },
  {
   "cell_type": "code",
   "execution_count": 4,
   "metadata": {},
   "outputs": [
    {
     "name": "stdout",
     "output_type": "stream",
     "text": [
      "letters: {'K', 'Y', 'Q', 'L', 'O', 'C', 'G', 'H', 'D', 'E', 'A', 'U', 'Z', 'T', 'R', 'N', 'J', 'S', 'W', 'M', 'X', 'V', 'P', 'F', 'I', 'B'}\n"
     ]
    }
   ],
   "source": [
    "# Find all letters\n",
    "before, after = zip(*data)\n",
    "letters = set(before) | set(after)\n",
    "\n",
    "print(f'letters: {letters}')"
   ]
  },
  {
   "cell_type": "code",
   "execution_count": 6,
   "metadata": {},
   "outputs": [
    {
     "data": {
      "text/plain": [
       "defaultdict(set,\n",
       "            {'D': {'A', 'B', 'I', 'J', 'M', 'R', 'V'},\n",
       "             'Z': {'E', 'G', 'K', 'L', 'Q'},\n",
       "             'W': {'E', 'F'},\n",
       "             'K': {'T'},\n",
       "             'Q': {'E', 'K', 'T'},\n",
       "             'V': {'G', 'H'},\n",
       "             'P': {'B', 'Q', 'T', 'W'},\n",
       "             'S': {'A', 'B', 'G', 'H', 'P', 'T', 'V', 'X'},\n",
       "             'R': {'F', 'I', 'J', 'P', 'X', 'Z'},\n",
       "             'U': {'A', 'I', 'J', 'M', 'R', 'S', 'V', 'X'},\n",
       "             'Y': {'B', 'D', 'E', 'J', 'Q', 'S', 'U', 'X'},\n",
       "             'C': {'D', 'J', 'M', 'N', 'O', 'T', 'V', 'X'},\n",
       "             'N': {'D', 'E', 'G', 'O', 'P', 'R', 'X', 'Y'},\n",
       "             'O': {'D', 'E', 'F', 'H', 'Q', 'R', 'U', 'V', 'W', 'X', 'Y'},\n",
       "             'I': {'F', 'G'},\n",
       "             'X': {'A', 'G', 'I', 'K', 'P', 'V'},\n",
       "             'J': {'V', 'Z'},\n",
       "             'G': {'L', 'P', 'W'},\n",
       "             'A': {'B', 'F', 'Q', 'W'},\n",
       "             'B': {'Q'},\n",
       "             'L': {'F'},\n",
       "             'H': {'E'},\n",
       "             'M': set(),\n",
       "             'F': set(),\n",
       "             'T': set(),\n",
       "             'E': set()})"
      ]
     },
     "execution_count": 6,
     "metadata": {},
     "output_type": "execute_result"
    }
   ],
   "source": [
    "d = defaultdict(set)\n",
    "for before, after in data:\n",
    "    d[after].add(before)\n",
    "for k in letters - d.keys():\n",
    "    d[k] = set()\n",
    "d"
   ]
  },
  {
   "cell_type": "code",
   "execution_count": 1,
   "metadata": {},
   "outputs": [
    {
     "name": "stdout",
     "output_type": "stream",
     "text": [
      "letters: {'K', 'Y', 'Q', 'L', 'O', 'C', 'G', 'H', 'D', 'E', 'A', 'U', 'Z', 'T', 'R', 'N', 'J', 'S', 'W', 'M', 'X', 'V', 'P', 'F', 'I', 'B'}\n"
     ]
    },
    {
     "data": {
      "text/plain": [
       "True"
      ]
     },
     "execution_count": 1,
     "metadata": {},
     "output_type": "execute_result"
    }
   ],
   "source": [
    "# # Find order in which to solve the puzzle\n",
    "answer = ''\n",
    "while len(d):\n",
    "    k = sorted(zip(d.values(), d.keys()), key=lambda el: (len(el[0]), el[1]))[0][1]\n",
    "    d.pop(k)\n",
    "    answer += k\n",
    "    for other_k in d.keys():\n",
    "        d[other_k] -= set(k)\n",
    "\n",
    "# answer == 'CABDFE'\n",
    "# # solution!!\n",
    "answer == 'EFHLMTKQBWAPGIVXSZJRDUYONC'"
   ]
  },
  {
   "cell_type": "code",
   "execution_count": null,
   "metadata": {},
   "outputs": [],
   "source": []
  }
 ],
 "metadata": {
  "kernelspec": {
   "display_name": "Python 3",
   "language": "python",
   "name": "python3"
  },
  "language_info": {
   "codemirror_mode": {
    "name": "ipython",
    "version": 3
   },
   "file_extension": ".py",
   "mimetype": "text/x-python",
   "name": "python",
   "nbconvert_exporter": "python",
   "pygments_lexer": "ipython3",
   "version": "3.6.5"
  }
 },
 "nbformat": 4,
 "nbformat_minor": 2
}
