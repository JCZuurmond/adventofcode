{
 "cells": [
  {
   "cell_type": "code",
   "execution_count": 8,
   "metadata": {},
   "outputs": [],
   "source": [
    "import string\n",
    "\n",
    "alphabet = string.ascii_lowercase"
   ]
  },
  {
   "cell_type": "code",
   "execution_count": 70,
   "metadata": {},
   "outputs": [
    {
     "data": {
      "text/plain": [
       "[array([300,  90]),\n",
       " array([300,  60]),\n",
       " array([176, 327]),\n",
       " array([108, 204]),\n",
       " array([297, 303]),\n",
       " array([101, 236]),\n",
       " array([ 70, 102]),\n",
       " array([336, 153]),\n",
       " array([260, 265]),\n",
       " array([228, 221]),\n",
       " array([119, 267]),\n",
       " array([310, 302]),\n",
       " array([291, 164]),\n",
       " array([190, 202]),\n",
       " array([298, 228]),\n",
       " array([292, 262]),\n",
       " array([ 53, 251]),\n",
       " array([176,  64]),\n",
       " array([170, 160]),\n",
       " array([71, 42]),\n",
       " array([314,  51]),\n",
       " array([71, 88]),\n",
       " array([319, 150]),\n",
       " array([192, 322]),\n",
       " array([270,  88]),\n",
       " array([165, 203]),\n",
       " array([262, 340]),\n",
       " array([301, 327]),\n",
       " array([135, 324]),\n",
       " array([ 97, 250]),\n",
       " array([161, 231]),\n",
       " array([305, 344]),\n",
       " array([295, 213]),\n",
       " array([320, 219]),\n",
       " array([172, 269]),\n",
       " array([151, 150]),\n",
       " array([215, 128]),\n",
       " array([167, 102]),\n",
       " array([158, 138]),\n",
       " array([307, 353]),\n",
       " array([358, 335]),\n",
       " array([163, 329]),\n",
       " array([234, 147]),\n",
       " array([ 58, 298]),\n",
       " array([228,  50]),\n",
       " array([151, 334]),\n",
       " array([108, 176]),\n",
       " array([335, 235]),\n",
       " array([296, 263]),\n",
       " array([ 80, 233])]"
      ]
     },
     "execution_count": 70,
     "metadata": {},
     "output_type": "execute_result"
    }
   ],
   "source": [
    "file_name = '../data/day6.txt'\n",
    "# file_name = '../data/day2_test2.txt'\n",
    "\n",
    "with open(file_name, 'r') as f:\n",
    "    nodes = [np.array(l.rstrip().split(', ')).astype(int) for l in f.readlines()]\n",
    "    \n",
    "# data"
   ]
  },
  {
   "cell_type": "code",
   "execution_count": 37,
   "metadata": {},
   "outputs": [
    {
     "data": {
      "text/plain": [
       "1"
      ]
     },
     "execution_count": 37,
     "metadata": {},
     "output_type": "execute_result"
    }
   ],
   "source": [
    "import numpy as np\n",
    "\n",
    "def closest_node(node, nodes):\n",
    "    nodes = np.asarray(nodes)\n",
    "    dist_2 = np.sum(np.abs(nodes - node), axis=1)\n",
    "    index = np.argmin(dist_2)\n",
    "    other_index = len(nodes) - np.argmin(dist_2[::-1]) - 1\n",
    "    if index == other_index:\n",
    "        return index\n",
    "\n",
    "nodes = [\n",
    "    (1, 1),\n",
    "    (1, 6),\n",
    "    (8, 3),\n",
    "    (3, 4),\n",
    "    (5, 5),\n",
    "    (8, 9),\n",
    "]\n",
    "\n",
    "node = (0, 5)\n",
    "\n",
    "closest_node(node, nodes)"
   ]
  },
  {
   "cell_type": "code",
   "execution_count": 71,
   "metadata": {},
   "outputs": [
    {
     "data": {
      "text/plain": [
       "array([[19., 19., 19., ..., 20., 20., 20.],\n",
       "       [19., 19., 19., ..., 20., 20., 20.],\n",
       "       [19., 19., 19., ..., 20., 20., 20.],\n",
       "       ...,\n",
       "       [43., 43., 43., ..., 40., 40., 40.],\n",
       "       [43., 43., 43., ..., 40., 40., 40.],\n",
       "       [43., 43., 43., ..., 40., 40., 40.]])"
      ]
     },
     "execution_count": 71,
     "metadata": {},
     "output_type": "execute_result"
    }
   ],
   "source": [
    "x_coor, y_coor = list(zip(*nodes))\n",
    "x_max, y_max = max(x_coor) + 2, max(y_coor) + 2\n",
    "\n",
    "field = np.empty((y_max, x_max))\n",
    "for j in range(y_max):\n",
    "    for i in range(x_max):\n",
    "        field[j, i] = closest_node((i, j), nodes)\n",
    "        \n",
    "field"
   ]
  },
  {
   "cell_type": "code",
   "execution_count": 72,
   "metadata": {},
   "outputs": [
    {
     "data": {
      "text/plain": [
       "3260"
      ]
     },
     "execution_count": 72,
     "metadata": {},
     "output_type": "execute_result"
    }
   ],
   "source": [
    "_options = set(field.flatten())\n",
    "_not_options = set(field[0, :]) | set(field[-1, :]) | set(field[:, 0]) | set(field[:, -1])\n",
    "\n",
    "options = set([el for el in _options if not np.isnan(el)])\n",
    "not_options = set([el for el in _not_options if not np.isnan(el)])\n",
    "\n",
    "max_size, max_option = None, None\n",
    "for option in options - not_options:\n",
    "    size = sum((field == option).flatten())\n",
    "    if max_size is None or size > max_size:\n",
    "        max_option = option\n",
    "        max_size = size\n",
    "        \n",
    "max_size"
   ]
  },
  {
   "cell_type": "code",
   "execution_count": 74,
   "metadata": {},
   "outputs": [
    {
     "data": {
      "text/plain": [
       "True"
      ]
     },
     "execution_count": 74,
     "metadata": {},
     "output_type": "execute_result"
    }
   ],
   "source": [
    "def total_dist(node, nodes):\n",
    "    nodes = np.asarray(nodes)\n",
    "    dist_2 = np.sum(np.abs(nodes - node), axis=1)\n",
    "    return sum(dist_2)\n",
    "\n",
    "\n",
    "nodes = [\n",
    "    (1, 1),\n",
    "    (1, 6),\n",
    "    (8, 3),\n",
    "    (3, 4),\n",
    "    (5, 5),\n",
    "    (8, 9),\n",
    "]\n",
    "\n",
    "node = (4, 3)\n",
    "\n",
    "total_dist(node, nodes) == 30"
   ]
  },
  {
   "cell_type": "code",
   "execution_count": null,
   "metadata": {},
   "outputs": [],
   "source": [
    "x_coor, y_coor = list(zip(*nodes))\n",
    "x_max, y_max = max(x_coor) + 2, max(y_coor) + 2\n",
    "\n",
    "field = np.empty((y_max, x_max))\n",
    "for j in range(y_max):\n",
    "    for i in range(x_max):\n",
    "        field[j, i] = closest_node((i, j), nodes)\n",
    "        \n",
    "field"
   ]
  }
 ],
 "metadata": {
  "kernelspec": {
   "display_name": "Python 3",
   "language": "python",
   "name": "python3"
  },
  "language_info": {
   "codemirror_mode": {
    "name": "ipython",
    "version": 3
   },
   "file_extension": ".py",
   "mimetype": "text/x-python",
   "name": "python",
   "nbconvert_exporter": "python",
   "pygments_lexer": "ipython3",
   "version": "3.6.5"
  }
 },
 "nbformat": 4,
 "nbformat_minor": 2
}
