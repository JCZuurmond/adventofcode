{
 "cells": [
  {
   "cell_type": "code",
   "execution_count": 24,
   "metadata": {},
   "outputs": [
    {
     "data": {
      "text/plain": [
       "430"
      ]
     },
     "execution_count": 24,
     "metadata": {},
     "output_type": "execute_result"
    }
   ],
   "source": [
    "# Load the data\n",
    "file_name = '../data/day1.txt'\n",
    "# file_name = '../data/day1_test1.txt'\n",
    "\n",
    "with open(file_name, 'r') as f:\n",
    "    data = [int(l.rstrip().replace('+', '')) for l in f.readlines()]\n",
    "    \n",
    "sum(data)"
   ]
  },
  {
   "cell_type": "code",
   "execution_count": 25,
   "metadata": {},
   "outputs": [
    {
     "data": {
      "text/plain": [
       "462"
      ]
     },
     "execution_count": 25,
     "metadata": {},
     "output_type": "execute_result"
    }
   ],
   "source": [
    "# data = [3, 3, 4, -2, -4]\n",
    "\n",
    "freq = 0\n",
    "seen = set([freq])\n",
    "stop = False\n",
    "while not stop:\n",
    "    for d in data:\n",
    "#         print(freq)\n",
    "        freq += d\n",
    "        if freq in seen:\n",
    "            stop = True\n",
    "            break\n",
    "        seen.add(freq)\n",
    "freq"
   ]
  },
  {
   "cell_type": "code",
   "execution_count": null,
   "metadata": {},
   "outputs": [],
   "source": [
    "    "
   ]
  }
 ],
 "metadata": {
  "kernelspec": {
   "display_name": "Python 3",
   "language": "python",
   "name": "python3"
  },
  "language_info": {
   "codemirror_mode": {
    "name": "ipython",
    "version": 3
   },
   "file_extension": ".py",
   "mimetype": "text/x-python",
   "name": "python",
   "nbconvert_exporter": "python",
   "pygments_lexer": "ipython3",
   "version": "3.6.5"
  }
 },
 "nbformat": 4,
 "nbformat_minor": 2
}
