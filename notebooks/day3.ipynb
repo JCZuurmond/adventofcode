{
 "cells": [
  {
   "cell_type": "code",
   "execution_count": 39,
   "metadata": {},
   "outputs": [
    {
     "data": {
      "text/plain": [
       "['1', '1', '39', '4', '4']"
      ]
     },
     "execution_count": 39,
     "metadata": {},
     "output_type": "execute_result"
    }
   ],
   "source": [
    "import re\n",
    "\n",
    "regex = re.compile('\\d+')\n",
    "\n",
    "regex.findall('#1 @ 1,39: 4x4') == ['1', '1', '39', '4', '4']"
   ]
  },
  {
   "cell_type": "code",
   "execution_count": 41,
   "metadata": {},
   "outputs": [],
   "source": [
    "def bbox(code):\n",
    "    regex = re.compile('\\d+')\n",
    "    nums = [int(el) for el in regex.findall(code)]\n",
    "    cmin, rmin = nums[1], nums[2]\n",
    "    cmax, rmax = cmin + nums[3], rmin + nums[4]\n",
    "    return [slice(cmin, cmax), slice(rmin, rmax)]\n",
    "    \n",
    "assert bbox('#1 @ 1,3: 4x4') == [slice(1, 5), slice(3, 7)]\n",
    "assert bbox('#1 @ 387,801: 11x22') == [slice(387, 387+11), slice(801, 801+22)]"
   ]
  },
  {
   "cell_type": "code",
   "execution_count": 42,
   "metadata": {},
   "outputs": [],
   "source": [
    "file_name = '../data/day3.txt'\n",
    "# file_name = '../data/day3_test.txt'\n",
    "\n",
    "with open(file_name, 'r') as f:\n",
    "    data = [bbox(l.rstrip()) for l in f.readlines()]"
   ]
  },
  {
   "cell_type": "code",
   "execution_count": 44,
   "metadata": {},
   "outputs": [
    {
     "data": {
      "text/plain": [
       "115304"
      ]
     },
     "execution_count": 44,
     "metadata": {},
     "output_type": "execute_result"
    }
   ],
   "source": [
    "import numpy as np\n",
    "\n",
    "cmax = max([d[0].stop for d in data])\n",
    "rmax = max([d[1].stop for d in data])\n",
    "m = np.zeros((rmax + 1, cmax + 1))\n",
    "\n",
    "\n",
    "for d in data:\n",
    "    m[d[0], d[1]] += 1\n",
    "    \n",
    "# sum(sum(m > 1)) == 4\n",
    "sum(sum(m > 1))"
   ]
  },
  {
   "cell_type": "code",
   "execution_count": 64,
   "metadata": {},
   "outputs": [
    {
     "data": {
      "text/plain": [
       "{274}"
      ]
     },
     "execution_count": 64,
     "metadata": {},
     "output_type": "execute_result"
    }
   ],
   "source": [
    "def get_iou(bb1, bb2):\n",
    "    \"\"\"\n",
    "    Calculate the Intersection over Union (IoU) of two bounding boxes.\n",
    "\n",
    "    Parameters\n",
    "    ----------\n",
    "    bb1 : dict\n",
    "        Keys: {'x1', 'x2', 'y1', 'y2'}\n",
    "        The (x1, y1) position is at the top left corner,\n",
    "        the (x2, y2) position is at the bottom right corner\n",
    "    bb2 : dict\n",
    "        Keys: {'x1', 'x2', 'y1', 'y2'}\n",
    "        The (x, y) position is at the top left corner,\n",
    "        the (x2, y2) position is at the bottom right corner\n",
    "\n",
    "    Returns\n",
    "    -------\n",
    "    float\n",
    "        in [0, 1]\n",
    "        \n",
    "    Source\n",
    "    -------\n",
    "    https://stackoverflow.com/questions/25349178/calculating-percentage-of-bounding-box-overlap-for-image-detector-evaluation\n",
    "    \"\"\"\n",
    "    bb1 = {'x1': bb1[0].start,\n",
    "           'x2': bb1[0].stop,\n",
    "           'y1': bb1[1].start,\n",
    "           'y2': bb1[1].stop}\n",
    "    bb2 = {'x1': bb2[0].start,\n",
    "           'x2': bb2[0].stop,\n",
    "           'y1': bb2[1].start,\n",
    "           'y2': bb2[1].stop}\n",
    "    assert bb1['x1'] < bb1['x2']\n",
    "    assert bb1['y1'] < bb1['y2']\n",
    "    assert bb2['x1'] < bb2['x2']\n",
    "    assert bb2['y1'] < bb2['y2']\n",
    "\n",
    "    # determine the coordinates of the intersection rectangle\n",
    "    x_left = max(bb1['x1'], bb2['x1'])\n",
    "    y_top = max(bb1['y1'], bb2['y1'])\n",
    "    x_right = min(bb1['x2'], bb2['x2'])\n",
    "    y_bottom = min(bb1['y2'], bb2['y2'])\n",
    "\n",
    "    if x_right < x_left or y_bottom < y_top:\n",
    "        return 0.0\n",
    "\n",
    "    # The intersection of two axis-aligned bounding boxes is always an\n",
    "    # axis-aligned bounding box\n",
    "    intersection_area = (x_right - x_left) * (y_bottom - y_top)\n",
    "\n",
    "    # compute the area of both AABBs\n",
    "    bb1_area = (bb1['x2'] - bb1['x1']) * (bb1['y2'] - bb1['y1'])\n",
    "    bb2_area = (bb2['x2'] - bb2['x1']) * (bb2['y2'] - bb2['y1'])\n",
    "\n",
    "    # compute the intersection over union by taking the intersection\n",
    "    # area and dividing it by the sum of prediction + ground-truth\n",
    "    # areas - the interesection area\n",
    "    iou = intersection_area / float(bb1_area + bb2_area - intersection_area)\n",
    "    assert iou >= 0.0\n",
    "    assert iou <= 1.0\n",
    "    return iou\n",
    "\n",
    "# with IOU check if bounding boxes overlap\n",
    "# function above is copied from stack over flow\n",
    "# and adjusted to work with the slices\n",
    "\n",
    "r1 = bbox('#1 @ 1,3: 4x4')\n",
    "r2 = bbox('#2 @ 3,1: 4x4')\n",
    "r3 = bbox('#3 @ 5,5: 2x2')\n",
    "\n",
    "assert get_iou(r1, r2) > 0\n",
    "assert get_iou(r1, r3) == 0.0\n",
    "assert get_iou(r3, r2) == 0.0\n",
    "\n",
    "\n",
    "ids = set(np.arange(len(data)))\n",
    "for i, r1 in enumerate(data):\n",
    "    for j, r2 in enumerate(data[i+1:]):\n",
    "        if get_iou(r1, r2) > 0:\n",
    "            if i in ids:\n",
    "                ids.remove(i)\n",
    "            if i + j + 1 in ids:\n",
    "                ids.remove(i + j + 1)\n",
    "                \n",
    "# answer is the number in the set plus one!\n",
    "ids"
   ]
  }
 ],
 "metadata": {
  "kernelspec": {
   "display_name": "Python 3",
   "language": "python",
   "name": "python3"
  },
  "language_info": {
   "codemirror_mode": {
    "name": "ipython",
    "version": 3
   },
   "file_extension": ".py",
   "mimetype": "text/x-python",
   "name": "python",
   "nbconvert_exporter": "python",
   "pygments_lexer": "ipython3",
   "version": "3.6.5"
  }
 },
 "nbformat": 4,
 "nbformat_minor": 2
}
